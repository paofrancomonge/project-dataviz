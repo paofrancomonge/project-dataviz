{
 "cells": [
  {
   "cell_type": "code",
   "execution_count": 1,
   "metadata": {},
   "outputs": [],
   "source": [
    "#Import library to connect to Google Trends \n",
    "\n",
    "from pytrends.request import TrendReq\n",
    "pytrends = TrendReq(hl = 'en-US', tz = 360)\n",
    "\n",
    "#Import Matplot & Seaborn to graph data \n",
    "import matplotlib.pyplot as plt\n",
    "import seaborn as sns\n",
    "\n",
    "#hl corresponds to the preferred language \n",
    "#tz corresponds to the TimeZone, Google uses US CT that equals '360'"
   ]
  },
  {
   "cell_type": "code",
   "execution_count": 2,
   "metadata": {},
   "outputs": [],
   "source": [
    "#Call the API to search the keywords I want, based on the interest over time. \n",
    "\n",
    "keyword_list = ['Amazon', 'Mercado Libre', 'Liverpool', 'Best Buy']\n",
    "pytrends.build_payload(keyword_list, cat = 0, timeframe = 'today 5-y', geo = 'MX', gprop = '')\n",
    "mx_retailers = pytrends.interest_over_time()\n",
    "\n",
    "#keywords: variable where I saved the keywords to get data for \n",
    "#categories: set to '0' so the API can search for the keywords an all the categories \n",
    "#timeframe: date to start from, I set it to the last 5 years \n",
    "#geo: two letter country abbreviation \n",
    "#gprop: what Google property to filter to (ex. images, news, youtube, shopping results, web searches)\n",
    "    #I left it empty so it searches the default which is web searches \n",
    "#Interest Over Time: parameter that returns historical, indexed data for when the keyword was searched most."
   ]
  },
  {
   "cell_type": "code",
   "execution_count": 3,
   "metadata": {},
   "outputs": [],
   "source": [
    "#Organize the data frame and add 'Year' and 'Month' columns to filtear easily\n",
    "mx_retailers2 = mx_retailers.reset_index()\n",
    "mx_retailers2['Year'] = mx_retailers2['date'].dt.year\n",
    "mx_retailers2['Month'] = mx_retailers2['date'].dt.month\n",
    "\n",
    "mx_retailers2.to_csv('MX_Retailers.csv')"
   ]
  },
  {
   "cell_type": "code",
   "execution_count": 8,
   "metadata": {},
   "outputs": [
    {
     "data": {
      "image/png": "[encoded data removed]",
      "text/plain": [
       "<Figure size 432x288 with 1 Axes>"
      ]
     },
     "metadata": {
      "needs_background": "light"
     },
     "output_type": "display_data"
    }
   ],
   "source": [
    "#Create a Pivot Table that groups the information as needed prior to graph\n",
    "\n",
    "sales_type = mx_retailers2.groupby(['Year']).agg({'Mercado Libre': 'mean', 'Amazon':'mean', 'Liverpool':'mean', 'Best Buy':'mean'})\n",
    "\n",
    "#Build a bar graph to visualize data\n",
    "sales_type.plot.bar()\n",
    "plt.title('Top Retailers interest among MX market')\n",
    "plt.xlabel('Years')\n",
    "plt.ylabel('Interest over time');\n"
   ]
  },
  {
   "cell_type": "code",
   "execution_count": 5,
   "metadata": {},
   "outputs": [],
   "source": [
    "#Resources\n",
    "\n",
    "#https://towardsdatascience.com/google-trends-api-for-python-a84bc25db88f\n",
    "#https://pypi.org/project/pytrends/\n",
    "#https://github.com/pat310/google-trends-api/wiki/Google-Trends-Categories\n",
    "#https://sites.google.com/site/tomihasa/google-language-codes"
   ]
  },
  {
   "cell_type": "code",
   "execution_count": 9,
   "metadata": {},
   "outputs": [],
   "source": [
    "def time_trends (keyword_list, period, file_name):\n",
    "    '''Brings the interest over time according to the keywords and timeframe selected.'''\n",
    "    \n",
    "    #Call the API to search the keywords I want, based on the interest over time.\n",
    "    pytrends.build_payload(keyword_list, cat = 0, timeframe = period, geo = 'MX', gprop = '')\n",
    "    mx_retailers = pytrends.interest_over_time().reset_index()\n",
    "    \n",
    "    #Organize the data frame by adding 'Year' and 'Month' columns to filtear easily\n",
    "    mx_retailers['Year'] = mx_retailers['date'].dt.year\n",
    "    mx_retailers['Month'] = mx_retailers['date'].dt.month\n",
    "    \n",
    "    #Save the file as a csv for further analysis \n",
    "    mx_retailers.to_csv(file_name)\n"
   ]
  },
  {
   "cell_type": "code",
   "execution_count": 25,
   "metadata": {},
   "outputs": [],
   "source": [
    "def region_trends (keyword_list, period, file_name):\n",
    "    '''Brings the interest by region according to the keywords and timeframe selected.'''\n",
    "    \n",
    "    #Call the API to search the keywords I want, based on the interest over time.\n",
    "    pytrends.build_payload(keyword_list, cat = 0, timeframe = period, geo = 'MX', gprop = '')\n",
    "    retailer_region = pytrends.interest_by_region(resolution = 'MX', inc_low_vol = True, inc_geo_code = False).reset_index()\n",
    "    \n",
    "    #Rename the colum because it will function as the primary key \n",
    "    retailer_region.rename(columns = {'geoName':'Estado'}, inplace = True)\n",
    "    \n",
    "    #Save the file as a csv for further analysis \n",
    "    retailer_region.to_csv(file_name)"
   ]
  },
  {
   "cell_type": "code",
   "execution_count": 10,
   "metadata": {},
   "outputs": [],
   "source": [
    "#Data 1: Evaluate the interest on different retailers in MX. \n",
    "\n",
    "time_trends(['Amazon', 'Mercado Libre', 'Liverpool', 'Best Buy'], 'today 5-y', 'MX_retail.csv')"
   ]
  },
  {
   "cell_type": "code",
   "execution_count": 11,
   "metadata": {},
   "outputs": [],
   "source": [
    "#Data 2: Evaluate interest spikes during 2020 to assess if there is a spike due to COVID-19. \n",
    "\n",
    "time_trends(['Amazon', 'Mercado Libre', 'Liverpool', 'Best Buy'], '2020-01-02 2020-12-12', 'MX_retail2020.csv')"
   ]
  },
  {
   "cell_type": "code",
   "execution_count": 26,
   "metadata": {},
   "outputs": [],
   "source": [
    "#Data 3: Evaluate interest on Amazon MX per state in 2020.\n",
    "\n",
    "region_trends(['covid-19', 'cubrebocas', 'gel antibacterial', 'alberca', 'rompecabezas', 'termometro'], '2020-01-02 2020-12-12', 'AmazonMX_2020.csv')"
   ]
  },
  {
   "cell_type": "code",
   "execution_count": null,
   "metadata": {},
   "outputs": [],
   "source": []
  }
 ],
 "metadata": {
  "kernelspec": {
   "display_name": "Python 3",
   "language": "python",
   "name": "python3"
  },
  "language_info": {
   "codemirror_mode": {
    "name": "ipython",
    "version": 3
   },
   "file_extension": ".py",
   "mimetype": "text/x-python",
   "name": "python",
   "nbconvert_exporter": "python",
   "pygments_lexer": "ipython3",
   "version": "3.8.6"
  }
 },
 "nbformat": 4,
 "nbformat_minor": 4
}
