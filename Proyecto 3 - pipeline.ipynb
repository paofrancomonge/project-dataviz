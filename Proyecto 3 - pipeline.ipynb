{
 "cells": [
  {
   "cell_type": "code",
   "execution_count": 2,
   "metadata": {},
   "outputs": [],
   "source": [
    "#Import library to connect to Google Trends \n",
    "\n",
    "from pytrends.request import TrendReq\n",
    "pytrends = TrendReq(hl = 'en-US', tz = 360)\n",
    "\n",
    "#hl corresponds to the preferred language \n",
    "#tz corresponds to the TimeZone, Google uses US CT that equals '360'"
   ]
  },
  {
   "cell_type": "code",
   "execution_count": 3,
   "metadata": {},
   "outputs": [],
   "source": [
    "def time_trends (keyword_list, period, file_name):\n",
    "    '''Brings the interest over time according to the keywords and timeframe selected.'''\n",
    "    \n",
    "    #Call the API to search the keywords I want, based on the interest over time.\n",
    "    pytrends.build_payload(keyword_list, cat = 0, timeframe = period, geo = 'MX', gprop = '')\n",
    "    mx_retailers = pytrends.interest_over_time().reset_index()\n",
    "    \n",
    "    #Organize the data frame by adding 'Year' and 'Month' columns to filtear easily\n",
    "    mx_retailers['Year'] = mx_retailers['date'].dt.year\n",
    "    mx_retailers['Month'] = mx_retailers['date'].dt.month\n",
    "    \n",
    "    #Save the file as a csv for further analysis \n",
    "    mx_retailers.to_csv(file_name)\n"
   ]
  },
  {
   "cell_type": "code",
   "execution_count": 4,
   "metadata": {},
   "outputs": [],
   "source": [
    "def region_trends (keyword_list, period, file_name):\n",
    "    '''Brings the interest by region according to the keywords and timeframe selected.'''\n",
    "    \n",
    "    #Call the API to search the keywords I want, based on the interest by region.\n",
    "    pytrends.build_payload(keyword_list, cat = 0, timeframe = period, geo = 'MX', gprop = '')\n",
    "    retailer_region = pytrends.interest_by_region(resolution = 'MX', inc_low_vol = True, inc_geo_code = False).reset_index()\n",
    "    \n",
    "    #Rename the colum because it will function as the primary key \n",
    "    retailer_region.rename(columns = {'geoName':'Estado'}, inplace = True)\n",
    "    \n",
    "    #Save the file as a csv for further analysis \n",
    "    retailer_region.to_csv(file_name)"
   ]
  },
  {
   "cell_type": "code",
   "execution_count": 6,
   "metadata": {},
   "outputs": [],
   "source": [
    "#Data 1: Evaluate the interest on different retailers in MX. \n",
    "\n",
    "time_trends(['Amazon', 'Mercado Libre', 'Liverpool', 'Best Buy', 'Linio'], 'today 5-y', 'MX_retail.csv')"
   ]
  },
  {
   "cell_type": "code",
   "execution_count": 7,
   "metadata": {},
   "outputs": [],
   "source": [
    "#Data 2: Evaluate interest spikes during 2020 to assess if there is a spike due to COVID-19. \n",
    "\n",
    "time_trends(['Amazon', 'Mercado Libre', 'Liverpool', 'Best Buy', 'Linio'], '2020-01-02 2020-12-12', 'MX_retail2020.csv')"
   ]
  },
  {
   "cell_type": "code",
   "execution_count": 26,
   "metadata": {},
   "outputs": [],
   "source": [
    "#Data 3: Evaluate interest on Amazon MX per state in 2020.\n",
    "\n",
    "region_trends(['covid-19', 'cubrebocas', 'gel antibacterial', 'alberca', 'rompecabezas', 'termometro'], '2020-01-02 2020-12-12', 'AmazonMX_2020.csv')"
   ]
  },
  {
   "cell_type": "code",
   "execution_count": 5,
   "metadata": {},
   "outputs": [],
   "source": [
    "#Resources\n",
    "\n",
    "#https://towardsdatascience.com/google-trends-api-for-python-a84bc25db88f\n",
    "#https://pypi.org/project/pytrends/\n",
    "#https://github.com/pat310/google-trends-api/wiki/Google-Trends-Categories\n",
    "#https://sites.google.com/site/tomihasa/google-language-codes"
   ]
  }
 ],
 "metadata": {
  "kernelspec": {
   "display_name": "Python 3",
   "language": "python",
   "name": "python3"
  },
  "language_info": {
   "codemirror_mode": {
    "name": "ipython",
    "version": 3
   },
   "file_extension": ".py",
   "mimetype": "text/x-python",
   "name": "python",
   "nbconvert_exporter": "python",
   "pygments_lexer": "ipython3",
   "version": "3.8.6"
  }
 },
 "nbformat": 4,
 "nbformat_minor": 4
}
